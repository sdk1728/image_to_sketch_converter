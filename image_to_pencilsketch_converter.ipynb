{
 "cells": [
  {
   "cell_type": "code",
   "execution_count": 4,
   "id": "6ae9e9e4",
   "metadata": {},
   "outputs": [],
   "source": [
    "import numpy as np\n",
    "import imageio\n",
    "import scipy.ndimage\n",
    "import cv2\n"
   ]
  },
  {
   "cell_type": "code",
   "execution_count": 3,
   "id": "d8e9d078",
   "metadata": {},
   "outputs": [
    {
     "name": "stdout",
     "output_type": "stream",
     "text": [
      "Collecting opencv-python\n",
      "  Using cached opencv_python-4.6.0.66-cp36-abi3-win_amd64.whl (35.6 MB)\n",
      "Requirement already satisfied: numpy>=1.17.3 in c:\\users\\hp\\anaconda3\\lib\\site-packages (from opencv-python) (1.20.3)\n",
      "Installing collected packages: opencv-python\n",
      "Successfully installed opencv-python-4.6.0.66\n"
     ]
    }
   ],
   "source": [
    "!pip install opencv-python"
   ]
  },
  {
   "cell_type": "code",
   "execution_count": 30,
   "id": "d5611528",
   "metadata": {},
   "outputs": [
    {
     "data": {
      "text/plain": [
       "True"
      ]
     },
     "execution_count": 30,
     "metadata": {},
     "output_type": "execute_result"
    }
   ],
   "source": [
    "img='rockstar.png'\n",
    "\n",
    "def rgb2grey(rgb):\n",
    "    return np.dot(rgb[...,:3],[0.2989,0.5870,0.1140])\n",
    "         # two dimensional formula to convert image into grey-scale\n",
    "def dodge(front,back):\n",
    "    final_sketch=front*255/255-back\n",
    "    final_sketch[final_sketch>255]=255\n",
    "    final_sketch[back==255]=255\n",
    "    \n",
    "    return final_sketch.astype('uint8')\n",
    "    \n",
    "ss=imageio.imread(img) # to read the selected image\n",
    "grey=rgb2grey(ss)\n",
    "\n",
    "i=255-grey  # 255 is for brightest colour ie.white\n",
    "\n",
    "blur=scipy.ndimage.filters.gaussian_filter(i,sigma=2000)# to convert into blur \n",
    "#image --sigma is intensity of blurness\n",
    "\n",
    "r=dodge(blur,grey)\n",
    "cv2.imwrite('rockstar_sketch.png',r)\n",
    "\n",
    "\n",
    "    \n"
   ]
  },
  {
   "cell_type": "code",
   "execution_count": null,
   "id": "ff4f4fcf",
   "metadata": {},
   "outputs": [],
   "source": []
  }
 ],
 "metadata": {
  "kernelspec": {
   "display_name": "Python 3 (ipykernel)",
   "language": "python",
   "name": "python3"
  },
  "language_info": {
   "codemirror_mode": {
    "name": "ipython",
    "version": 3
   },
   "file_extension": ".py",
   "mimetype": "text/x-python",
   "name": "python",
   "nbconvert_exporter": "python",
   "pygments_lexer": "ipython3",
   "version": "3.9.7"
  }
 },
 "nbformat": 4,
 "nbformat_minor": 5
}
